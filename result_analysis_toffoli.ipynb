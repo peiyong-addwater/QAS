{
 "cells": [
  {
   "cell_type": "code",
   "execution_count": 1,
   "metadata": {},
   "outputs": [
    {
     "name": "stdout",
     "output_type": "stream",
     "text": [
      "d:\\Research\\QAS-Qiskit\\QAS\n",
      "dict_keys(['task', 'pool', 'params', 'k', 'op_list', 'search_reward_list', 'fine_tune_loss'])\n"
     ]
    }
   ],
   "source": [
    "import pennylane as qml \n",
    "import pennylane.numpy as pnp \n",
    "import numpy as np \n",
    "from qas import qml_gate_ops \n",
    "from qas import qml_models \n",
    "from qas import mcts\n",
    "import os \n",
    "import json \n",
    "from pprint import pprint\n",
    "cwd = os.getcwd() \n",
    "print(cwd)\n",
    "\n",
    "res_file = '20211009-231603.json'\n",
    "with open(os.path.join(cwd, res_file)) as f:\n",
    "    res_dict = json.load(f)\n",
    "\n",
    "print(res_dict.keys())\n"
   ]
  },
  {
   "cell_type": "code",
   "execution_count": 14,
   "metadata": {},
   "outputs": [
    {
     "name": "stdout",
     "output_type": "stream",
     "text": [
      "(15, 12, 3)\n",
      "[11, 8, 11, 8, 2, 3, 0, 1, 4, 5, 1, 3, 5, 5, 1]\n",
      "{0: {'Rot': [0]}, 1: {'PlaceHolder': [0]}, 2: {'Rot': [1]}, 3: {'PlaceHolder': [1]}, 4: {'Rot': [2]}, 5: {'PlaceHolder': [2]}, 6: {'CRot': [0, 1]}, 7: {'CNOT': [0, 1]}, 8: {'CRot': [1, 2]}, 9: {'CNOT': [1, 2]}, 10: {'CRot': [0, 2]}, 11: {'CNOT': [0, 2]}}\n",
      "[('CNOT', [0, 2], None), ('CRot', [1, 2], [1.129680337296492, 1.5707922440908313, -0.0008633026512832973]), ('CNOT', [0, 2], None), ('CRot', [1, 2], [0.026147067452042146, -1.26553346484485, 0.8799594504776643]), ('Rot', [1], [-0.7463000265359258, 0.000728433748695468, 0.7427270846724496]), ('PlaceHolder', [1], None), ('Rot', [0], [-0.7774424770311453, 0.0006764088145414327, -0.3979643430853004]), ('PlaceHolder', [0], None), ('Rot', [2], [-0.942913291994291, -0.1571363759045717, 0.6860885220354251]), ('PlaceHolder', [2], None), ('PlaceHolder', [0], None), ('PlaceHolder', [1], None), ('PlaceHolder', [2], None), ('PlaceHolder', [2], None), ('PlaceHolder', [0], None)]\n"
     ]
    }
   ],
   "source": [
    "pool = {int(k):res_dict['pool'][k] for k in res_dict['pool'].keys()}\n",
    "params = np.array(res_dict['params'])\n",
    "print(params.shape)\n",
    "print(res_dict['k'])\n",
    "print(pool)\n",
    "model = qml_models.ToffoliQMLNoiseless(params.shape[0], params.shape[1], params.shape[2], res_dict['k'], pool)\n",
    "print(model.toList(params))"
   ]
  },
  {
   "cell_type": "code",
   "execution_count": 15,
   "metadata": {},
   "outputs": [],
   "source": [
    "dev = qml.device('default.qubit', wires = 3)\n",
    "@qml.qnode(dev)\n",
    "def searched_circ(x):\n",
    "    qml.QubitStateVector(x, wires=[0,1,2])\n",
    "    qml.CNOT(wires =[0,2])\n",
    "    qml.CRot(1.129680337296492, 1.5707922440908313, -0.0008633026512832973, wires=[1,2])\n",
    "    qml.CNOT(wires =[0,2])\n",
    "    qml.CRot(0.026147067452042146, -1.26553346484485, 0.8799594504776643, wires=[1,2])\n",
    "    qml.Rot(-0.7463000265359258, 0.000728433748695468, 0.7427270846724496, wires = 1)\n",
    "    qml.Rot(-0.7774424770311453, 0.0006764088145414327, -0.3979643430853004, wires = 0)\n",
    "    qml.Rot(-0.942913291994291, -0.1571363759045717, 0.6860885220354251, wires = 2)\n",
    "    return qml.state()\n",
    "\n",
    "@qml.qnode(dev)\n",
    "def target_circ(x):\n",
    "    qml.QubitStateVector(x, wires=[0,1,2])\n",
    "    qml.Toffoli(wires=[0,1,2])\n",
    "    return qml.state()\n",
    "\n",
    "computational_bases = {\"0\":np.array([1,0]), \"1\":np.array([0,1])}"
   ]
  },
  {
   "cell_type": "code",
   "execution_count": 16,
   "metadata": {},
   "outputs": [
    {
     "name": "stdout",
     "output_type": "stream",
     "text": [
      " 0: ──╭QubitStateVector(M0)──╭C───────────────────────────────╭C───Rot(-0.777, 0.000676, -0.398)────────────────────────────────╭┤ State \n",
      " 1: ──├QubitStateVector(M0)──│───╭C───────────────────────────│───╭C──────────────────────────────Rot(-0.746, 0.000728, 0.743)──├┤ State \n",
      " 2: ──╰QubitStateVector(M0)──╰X──╰Rot(1.13, 1.57, -0.000863)──╰X──╰Rot(0.0261, -1.27, 0.88)───────Rot(-0.943, -0.157, 0.686)────╰┤ State \n",
      "M0 =\n",
      "[0 0 0 0 0 0 1 0]\n",
      "\n"
     ]
    }
   ],
   "source": [
    "print(qml.draw(searched_circ)(np.kron(computational_bases['1'], np.kron(computational_bases['1'], computational_bases['0']))))"
   ]
  },
  {
   "cell_type": "code",
   "execution_count": 17,
   "metadata": {},
   "outputs": [
    {
     "name": "stdout",
     "output_type": "stream",
     "text": [
      "State:  000\n",
      "State Vector: \n",
      "[1 0 0 0 0 0 0 0]\n",
      "Searched Circ Output:\n",
      "[ 7.5086e-01+6.5578e-01j -1.3031e-02-7.7398e-02j  3.9920e-05+3.6089e-04j  1.5568e-05-2.3975e-05j  3.2005e-04+1.0604e-04j -1.4207e-05-2.2423e-05j  5.9748e-08+1.0728e-07j  1.7114e-09-9.5154e-09j]\n",
      "Target Circ Output:\n",
      "[1.+0.j 0.+0.j 0.+0.j 0.+0.j 0.+0.j 0.+0.j 0.+0.j 0.+0.j]\n",
      "\n",
      "State:  001\n",
      "State Vector: \n",
      "[0 1 0 0 0 0 0 0]\n",
      "Searched Circ Output:\n",
      "[7.6509e-02-1.7512e-02j 8.9281e-01+4.4354e-01j 2.4840e-05+1.4147e-05j 1.3028e-04+3.3892e-04j 2.1558e-05-1.5488e-05j 3.3649e-04+2.1265e-05j 9.5988e-09+1.1550e-09j 8.5039e-08+8.8589e-08j]\n",
      "Target Circ Output:\n",
      "[0.+0.j 1.+0.j 0.+0.j 0.+0.j 0.+0.j 0.+0.j 0.+0.j 0.+0.j]\n",
      "\n",
      "State:  010\n",
      "State Vector: \n",
      "[0 0 1 0 0 0 0 0]\n",
      "Searched Circ Output:\n",
      "[-1.8545e-04+3.1229e-04j -2.5883e-05+8.1837e-06j  9.5495e-01-2.8724e-01j  6.7545e-02+3.1510e-02j -1.6888e-08+1.2167e-07j -6.9971e-09+5.9440e-09j  2.6008e-04-2.1472e-04j  2.5189e-05+9.7106e-07j]\n",
      "Target Circ Output:\n",
      "[0.+0.j 0.+0.j 1.+0.j 0.+0.j 0.+0.j 0.+0.j 0.+0.j 0.+0.j]\n",
      "\n",
      "State:  011\n",
      "State Vector: \n",
      "[0 0 0 1 0 0 0 0]\n",
      "Searched Circ Output:\n",
      "[ 2.7146e-05-2.0060e-07j -2.7275e-04-2.3984e-04j -5.5274e-02-5.0000e-02j  1.0628e-01+9.9154e-01j  8.4370e-09-3.6205e-09j -1.1647e-07-3.9028e-08j -2.3786e-05-8.3439e-06j  1.6309e-04+2.9521e-04j]\n",
      "Target Circ Output:\n",
      "[0.+0.j 0.+0.j 0.+0.j 1.+0.j 0.+0.j 0.+0.j 0.+0.j 0.+0.j]\n",
      "\n",
      "State:  100\n",
      "State Vector: \n",
      "[0 0 0 0 1 0 0 0]\n",
      "Searched Circ Output:\n",
      "[-3.3656e-04+2.0063e-05j  2.1503e-05+1.5565e-05j -9.5239e-08-7.7520e-08j  1.9352e-09+9.4724e-09j  8.9439e-01-4.4035e-01j -7.6446e-02-1.7785e-02j  3.4842e-04+1.0216e-04j -1.6129e-05-2.3602e-05j]\n",
      "Target Circ Output:\n",
      "[0.+0.j 0.+0.j 0.+0.j 0.+0.j 1.+0.j 0.+0.j 0.+0.j 0.+0.j]\n",
      "\n",
      "State:  101\n",
      "State Vector: \n",
      "[0 0 0 0 0 1 0 0]\n",
      "Searched Circ Output:\n",
      "[-1.4287e-05+2.2372e-05j -3.2043e-04+1.0490e-04j -9.3438e-09+2.4829e-09j -1.1181e-07-5.0785e-08j  1.3308e-02-7.7351e-02j  7.5320e-01-6.5309e-01j  2.2623e-05-1.7475e-05j  3.6295e-04+1.0310e-05j]\n",
      "Target Circ Output:\n",
      "[0.+0.j 0.+0.j 0.+0.j 0.+0.j 0.+0.j 1.+0.j 0.+0.j 0.+0.j]\n",
      "\n",
      "State:  110\n",
      "State Vector: \n",
      "[0 0 0 0 0 0 1 0]\n",
      "Searched Circ Output:\n",
      "[ 6.4291e-09-6.5709e-09j -1.2264e-07+6.8860e-09j -2.5204e-05+1.3516e-06j  2.6083e-04+2.1380e-04j -9.9945e-06+2.5277e-05j  3.2640e-04-1.5930e-04j  6.7150e-02-3.2565e-02j -9.5595e-01-2.8389e-01j]\n",
      "Target Circ Output:\n",
      "[0.+0.j 0.+0.j 0.+0.j 0.+0.j 0.+0.j 0.+0.j 0.+0.j 1.+0.j]\n",
      "\n",
      "State:  111\n",
      "State Vector: \n",
      "[0 0 0 0 0 0 0 1]\n",
      "Searched Circ Output:\n",
      "[-2.9392e-08-1.1927e-07j  4.3960e-09-8.0737e-09j -1.6202e-04+2.9580e-04j -2.3883e-05+8.1664e-06j  2.1678e-04+2.9141e-04j -2.7306e-06+2.7044e-05j  1.0267e-01-9.9191e-01j  5.5740e-02-4.9626e-02j]\n",
      "Target Circ Output:\n",
      "[0.+0.j 0.+0.j 0.+0.j 0.+0.j 0.+0.j 0.+0.j 1.+0.j 0.+0.j]\n",
      "\n"
     ]
    }
   ],
   "source": [
    "for a in computational_bases.keys():\n",
    "    for b in computational_bases.keys():\n",
    "        for c in computational_bases.keys():\n",
    "            state_name = a+b+c\n",
    "            state = np.kron(np.kron(computational_bases[a], computational_bases[b]), computational_bases[c])\n",
    "            print(\"State: \", state_name)\n",
    "            print(\"State Vector: \")\n",
    "            print(state)\n",
    "            print(\"Searched Circ Output:\")\n",
    "            print(searched_circ(state))\n",
    "            print(\"Target Circ Output:\")\n",
    "            print(target_circ(state))\n",
    "            print()"
   ]
  },
  {
   "cell_type": "code",
   "execution_count": null,
   "metadata": {},
   "outputs": [],
   "source": []
  }
 ],
 "metadata": {
  "interpreter": {
   "hash": "48cd5b442f016699da984206989fd2d7e7204285b15197fe93b8704a3e807965"
  },
  "kernelspec": {
   "display_name": "Python 3.8.8 64-bit ('QuantumResearch': conda)",
   "name": "python3"
  },
  "language_info": {
   "codemirror_mode": {
    "name": "ipython",
    "version": 3
   },
   "file_extension": ".py",
   "mimetype": "text/x-python",
   "name": "python",
   "nbconvert_exporter": "python",
   "pygments_lexer": "ipython3",
   "version": "3.8.8"
  },
  "orig_nbformat": 4
 },
 "nbformat": 4,
 "nbformat_minor": 2
}
