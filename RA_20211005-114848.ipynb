{
 "cells": [
  {
   "cell_type": "code",
   "execution_count": 1,
   "source": [
    "import pennylane as qml \r\n",
    "import pennylane.numpy as pnp \r\n",
    "import numpy as np \r\n",
    "from qas import qml_ops \r\n",
    "from qas import qml_models \r\n",
    "from qas import mcts\r\n",
    "import os \r\n",
    "import json \r\n",
    "from pprint import pprint\r\n",
    "\r\n",
    "dev = qml.device('default.qubit', wires=3)"
   ],
   "outputs": [],
   "metadata": {}
  },
  {
   "cell_type": "code",
   "execution_count": 2,
   "source": [
    "cwd = os.getcwd() \r\n",
    "print(cwd)\r\n",
    "\r\n",
    "res_file = \"20211005-114848.json\"\r\n",
    "with open(os.path.join(cwd, res_file)) as f:\r\n",
    "    res_dict = json.load(f)\r\n",
    "print(res_dict.keys())"
   ],
   "outputs": [
    {
     "name": "stdout",
     "output_type": "stream",
     "text": [
      "D:\\Research\\QAS-Qiskit\\QAS\n",
      "dict_keys(['task', 'pool', 'params', 'k', 'op_list', 'search_reward_list', 'fine_tune_loss'])\n"
     ]
    }
   ],
   "metadata": {}
  },
  {
   "cell_type": "code",
   "execution_count": 4,
   "source": [
    "pprint(res_dict['op_list'])"
   ],
   "outputs": [
    {
     "output_type": "stream",
     "name": "stdout",
     "text": [
      "[['CRot',\n",
      "  [0, 1],\n",
      "  [0.7155452974765524, 0.020417804916402466, -0.713502489836734]],\n",
      " ['CRot',\n",
      "  [1, 2],\n",
      "  [1.5190876497379346, -0.2546445896530236, -1.5184202417063677]],\n",
      " ['CNOT', [0, 2], None],\n",
      " ['Rot', [0], [-1.5622544796698883, -0.5413672571695849, 1.5688514279418972]],\n",
      " ['Rot', [2], [-1.5706971253874478, 0.4075454388572003, 1.5707010598740383]],\n",
      " ['Rot', [1], [-1.7295778023146682, -2.677612052206618, 1.5374237066523149]],\n",
      " ['PlaceHolder', [2], None],\n",
      " ['PlaceHolder', [1], None],\n",
      " ['PlaceHolder', [2], None],\n",
      " ['PlaceHolder', [2], None],\n",
      " ['PlaceHolder', [1], None],\n",
      " ['PlaceHolder', [2], None],\n",
      " ['PlaceHolder', [1], None],\n",
      " ['PlaceHolder', [2], None],\n",
      " ['PlaceHolder', [2], None],\n",
      " ['PlaceHolder', [0], None],\n",
      " ['PlaceHolder', [0], None],\n",
      " ['PlaceHolder', [0], None],\n",
      " ['PlaceHolder', [2], None],\n",
      " ['PlaceHolder', [1], None],\n",
      " ['PlaceHolder', [1], None],\n",
      " ['PlaceHolder', [2], None],\n",
      " ['PlaceHolder', [0], None],\n",
      " ['PlaceHolder', [1], None],\n",
      " ['PlaceHolder', [2], None]]\n"
     ]
    }
   ],
   "metadata": {}
  },
  {
   "cell_type": "code",
   "execution_count": 34,
   "source": [
    "@qml.qnode(dev)\r\n",
    "def circ(params, x=None, y=None):\r\n",
    "    qml.QubitStateVector(x, wires=[0,1,2])\r\n",
    "    qml.Toffoli(wires=[0,1,2])\r\n",
    "    \"\"\"\r\n",
    "    qml.CRot(params[0], params[1], params[2], wires=[0,1])\r\n",
    "    qml.CRot(params[3], params[4], params[5], wires=[1,2])\r\n",
    "    qml.CNOT(wires=[0,2])\r\n",
    "    qml.Rot(params[6], params[7], params[8], wires=[0])\r\n",
    "    qml.Rot(params[9], params[10], params[11], wires=[2])\r\n",
    "    qml.Rot(params[12], params[13], params[14], wires=[1])\r\n",
    "    \"\"\"\r\n",
    "    return qml.state()\r\n",
    "\r\n",
    "\r\n",
    "def cost(params):\r\n",
    "    x_data = qml_models.TOFFOLI_DATA[0]\r\n",
    "    y_data = qml_models.TOFFOLI_DATA[1]\r\n",
    "    fid_list = []\r\n",
    "    for i in range(len(x_data)):\r\n",
    "        out=circ(params, x=x_data[i], y=y_data[i])\r\n",
    "        print(np.real(np.dot(np.conjugate(out).T, x_data[i])))\r\n",
    "        fid_list.append(np.real(np.dot(np.conjugate(out).T, x_data[i])))\r\n",
    "    return 1-np.average(fid_list)\r\n",
    "\r\n",
    "dev2 = qml.device('default.qubit', wires=7)\r\n",
    "\r\n",
    "@qml.qnode(dev2)\r\n",
    "def circ_swap_test(params, x=None):\r\n",
    "\r\n",
    "    #qml.QubitStateVector(np.kron(x,x), wires = [0,1,2,3,4,5])\r\n",
    "    for i in range(6):\r\n",
    "        qml.Hadamard(wires=i)\r\n",
    "\r\n",
    "    #qml.Toffoli(wires=[0,1,2])\r\n",
    "\r\n",
    "    \r\n",
    "    qml.CRot(params[0], params[1], params[2], wires=[0,1])\r\n",
    "    qml.CRot(params[3], params[4], params[5], wires=[1,2])\r\n",
    "    qml.CNOT(wires=[0,2])\r\n",
    "    qml.Rot(params[6], params[7], params[8], wires=[0])\r\n",
    "    qml.Rot(params[9], params[10], params[11], wires=[2])\r\n",
    "    qml.Rot(params[12], params[13], params[14], wires=[1])\r\n",
    "    \r\n",
    "    qml.Toffoli(wires=[3,4,5])\r\n",
    "\r\n",
    "    qml.Hadamard(wires=6)\r\n",
    "    qml.CSWAP(wires=[6,5,2])\r\n",
    "    qml.CSWAP(wires=[6,4,1])\r\n",
    "    qml.CSWAP(wires=[6,3,0])\r\n",
    "    qml.Hadamard(wires=6)\r\n",
    "    return qml.expval(qml.Hermitian(np.outer(qml_models.ket0, qml_models.ket0), wires=6))\r\n",
    "\r\n",
    "def cost_swap_test(params):\r\n",
    "    x_data = qml_models.TOFFOLI_DATA[0]\r\n",
    "    fid = 0\r\n",
    "    for i in range(len(x_data)):\r\n",
    "        out=circ_swap_test(params, x=x_data[i])\r\n",
    "        fid = fid + (out-1/2)*2\r\n",
    "    return 1-fid/len(x_data)\r\n",
    "\r\n"
   ],
   "outputs": [],
   "metadata": {}
  },
  {
   "cell_type": "code",
   "execution_count": 35,
   "source": [
    "np.random.seed(0)\r\n",
    "var = np.random.randn(15)*0.01\r\n",
    "\r\n",
    "opt = qml.AdamOptimizer(0.5)\r\n",
    "num_epochs = 50\r\n",
    "for epoch in range(num_epochs):\r\n",
    "    var = opt.step(lambda v: cost_swap_test(v), var)\r\n",
    "    loss = cost_swap_test(var)\r\n",
    "    print(\"Epoch: {}, Loss: {}\".format(epoch+1, loss))"
   ],
   "outputs": [
    {
     "output_type": "stream",
     "name": "stdout",
     "text": [
      "Epoch: 1, Loss: 0.8529455215794299\n",
      "Epoch: 2, Loss: 0.5748156755431165\n",
      "Epoch: 3, Loss: 0.18018099169909008\n",
      "Epoch: 4, Loss: 0.2062975632343037\n",
      "Epoch: 5, Loss: 0.3459821196998415\n",
      "Epoch: 6, Loss: 0.27858296120815274\n",
      "Epoch: 7, Loss: 0.146506045279721\n",
      "Epoch: 8, Loss: 0.13322466449228088\n",
      "Epoch: 9, Loss: 0.16433418809931588\n",
      "Epoch: 10, Loss: 0.1706216032241752\n",
      "Epoch: 11, Loss: 0.12760166210126145\n",
      "Epoch: 12, Loss: 0.08427643219220138\n",
      "Epoch: 13, Loss: 0.0955042523283981\n",
      "Epoch: 14, Loss: 0.10232747848569523\n",
      "Epoch: 15, Loss: 0.05888249062559059\n",
      "Epoch: 16, Loss: 0.030825713185058\n",
      "Epoch: 17, Loss: 0.05495638979298623\n",
      "Epoch: 18, Loss: 0.06430730354220748\n",
      "Epoch: 19, Loss: 0.037266213242957424\n",
      "Epoch: 20, Loss: 0.02541310728462398\n",
      "Epoch: 21, Loss: 0.04170720439931774\n",
      "Epoch: 22, Loss: 0.045367674941694136\n",
      "Epoch: 23, Loss: 0.03132468816044409\n",
      "Epoch: 24, Loss: 0.024326750378738105\n",
      "Epoch: 25, Loss: 0.025683128943880362\n",
      "Epoch: 26, Loss: 0.02625795035690559\n",
      "Epoch: 27, Loss: 0.020928935669615956\n",
      "Epoch: 28, Loss: 0.012838847864647285\n",
      "Epoch: 29, Loss: 0.012856980749941016\n",
      "Epoch: 30, Loss: 0.018397708231722598\n",
      "Epoch: 31, Loss: 0.01748100586849155\n",
      "Epoch: 32, Loss: 0.009941128631171137\n",
      "Epoch: 33, Loss: 0.007241549164169858\n",
      "Epoch: 34, Loss: 0.009897257070747623\n",
      "Epoch: 35, Loss: 0.00854713361905568\n",
      "Epoch: 36, Loss: 0.006839163203175569\n",
      "Epoch: 37, Loss: 0.008760628642233148\n",
      "Epoch: 38, Loss: 0.007702740573671596\n",
      "Epoch: 39, Loss: 0.005135950257573074\n",
      "Epoch: 40, Loss: 0.006051096768974196\n",
      "Epoch: 41, Loss: 0.005598398423788287\n",
      "Epoch: 42, Loss: 0.003843435790976346\n",
      "Epoch: 43, Loss: 0.004698602541998165\n",
      "Epoch: 44, Loss: 0.003908700439664625\n",
      "Epoch: 45, Loss: 0.0017589053519743159\n",
      "Epoch: 46, Loss: 0.0033496037218673225\n",
      "Epoch: 47, Loss: 0.004129760310624064\n",
      "Epoch: 48, Loss: 0.0014962637860085337\n",
      "Epoch: 49, Loss: 0.0017469429786736157\n",
      "Epoch: 50, Loss: 0.002961911170599185\n"
     ]
    }
   ],
   "metadata": {}
  },
  {
   "cell_type": "code",
   "execution_count": null,
   "source": [],
   "outputs": [],
   "metadata": {}
  }
 ],
 "metadata": {
  "orig_nbformat": 4,
  "language_info": {
   "name": "python",
   "version": "3.8.8",
   "mimetype": "text/x-python",
   "codemirror_mode": {
    "name": "ipython",
    "version": 3
   },
   "pygments_lexer": "ipython3",
   "nbconvert_exporter": "python",
   "file_extension": ".py"
  },
  "kernelspec": {
   "name": "python3",
   "language": "python",
   "display_name": "Python 3"
  },
  "interpreter": {
   "hash": "48cd5b442f016699da984206989fd2d7e7204285b15197fe93b8704a3e807965"
  }
 },
 "nbformat": 4,
 "nbformat_minor": 2
}