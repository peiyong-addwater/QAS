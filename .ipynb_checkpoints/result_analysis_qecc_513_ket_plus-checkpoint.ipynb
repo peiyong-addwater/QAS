{
 "cells": [
  {
   "cell_type": "code",
   "execution_count": 2,
   "metadata": {},
   "outputs": [
    {
     "name": "stdout",
     "output_type": "stream",
     "text": [
      "d:\\Research\\QAS-Qiskit\\QAS\n",
      "dict_keys(['task', 'pool', 'params', 'k', 'op_list', 'search_reward_list', 'fine_tune_loss'])\n"
     ]
    }
   ],
   "source": [
    "import pennylane as qml \n",
    "import pennylane.numpy as pnp \n",
    "import numpy as np \n",
    "from qas import qml_gate_ops \n",
    "from qas import qml_models \n",
    "from qas import mcts\n",
    "import os \n",
    "import json \n",
    "from pprint import pprint\n",
    "cwd = os.getcwd() \n",
    "print(cwd)\n",
    "\n",
    "res_file = '20211016-180250.json'\n",
    "with open(os.path.join(cwd, res_file)) as f:\n",
    "    res_dict = json.load(f)\n",
    "\n",
    "print(res_dict.keys())"
   ]
  },
  {
   "cell_type": "code",
   "execution_count": 6,
   "metadata": {},
   "outputs": [
    {
     "name": "stdout",
     "output_type": "stream",
     "text": [
      "(25, 18, 3)\n",
      "[4, 14, 15, 5, 14, 13, 15, 16, 3, 8, 2, 6, 13, 15, 3, 4, 0, 6, 2, 5, 9, 9, 1, 3, 7]\n",
      "[('Rot', [2], [1.4676625603607936, 1.5464079878132415, -3.3770670748849225]), ('CNOT', [2, 3], None), ('CNOT', [3, 2], None), ('CNOT', [2, 3], None), ('CNOT', [2, 1], None), ('CNOT', [3, 2], None), ('CNOT', [3, 4], None), ('Rot', [4], [0.6662927717112773, -0.018530848387321323, -4.942278839091377]), ('Rot', [1], [-0.3627880580524974, -0.001460090290921933, -0.22755312972979203]), ('Rot', [3], [1.9999355959183032, -1.6054306634003912, 0.08831031859582329]), ('CNOT', [2, 1], None), ('CNOT', [3, 2], None), ('Rot', [2], [-0.19214618928952862, 0.007394907470905345, 0.12739564629112415]), ('Rot', [0], [-0.26452576973588815, -1.573699500607863, 0.029462716256028913]), ('Rot', [3], [-0.18874802695391868, -1.4719187719870943, -0.018826332675151304]), ('Rot', [1], [-0.1895771767580823, -0.01892490205043195, -0.18790550020089])]\n"
     ]
    }
   ],
   "source": [
    "pool = {int(k):res_dict['pool'][k] for k in res_dict['pool'].keys()}\n",
    "params = np.array(res_dict['params'])\n",
    "print(params.shape)\n",
    "print(res_dict['k'])\n",
    "#print(pool)\n",
    "model = qml_models.PrepareLogicalKetPlusState513QECC(params.shape[0], params.shape[1], params.shape[2], res_dict['k'], pool)\n",
    "print(model.toList(params))"
   ]
  },
  {
   "cell_type": "code",
   "execution_count": 7,
   "metadata": {},
   "outputs": [
    {
     "name": "stdout",
     "output_type": "stream",
     "text": [
      "[['Rot', [2], [1.4676625603607936, 1.5464079878132415, -3.3770670748849225]], ['CNOT', [2, 3], None], ['CNOT', [3, 2], None], ['CNOT', [2, 3], None], ['CNOT', [2, 1], None], ['CNOT', [3, 2], None], ['CNOT', [3, 4], None], ['Rot', [4], [0.6662927717112773, -0.018530848387321323, -4.942278839091377]], ['Rot', [1], [-0.3627880580524974, -0.001460090290921933, -0.22755312972979203]], ['Rot', [3], [1.9999355959183032, -1.6054306634003912, 0.08831031859582329]], ['CNOT', [2, 1], None], ['CNOT', [3, 2], None], ['Rot', [2], [-0.19214618928952862, 0.007394907470905345, 0.12739564629112415]], ['Rot', [0], [-0.26452576973588815, -1.573699500607863, 0.029462716256028913]], ['Rot', [3], [-0.18874802695391868, -1.4719187719870943, -0.018826332675151304]], ['Rot', [1], [-0.1895771767580823, -0.01892490205043195, -0.18790550020089]]]\n"
     ]
    }
   ],
   "source": [
    "print(res_dict['op_list'])"
   ]
  },
  {
   "cell_type": "code",
   "execution_count": null,
   "metadata": {},
   "outputs": [],
   "source": [
    "dev = qml.device('default.qubit', wires = 5)\n",
    "@qml.qnode(dev)\n",
    "def searched_circ(params, x=None):\n",
    "    qml.QubitStateVector(x, wires=[0])\n",
    "    qml.Rot(params[0,0], params[0,1], params[0,2], wires=[2])\n",
    "    qml.CNOT(wires=[2,3])\n",
    "    qml.CNOT(wires=[3,2])\n",
    "    qml.CNOT(wires=[2,3])\n",
    "    qml.CNOT(wires=[2,1])\n",
    "    qml.CNOT()"
   ]
  }
 ],
 "metadata": {
  "interpreter": {
   "hash": "48cd5b442f016699da984206989fd2d7e7204285b15197fe93b8704a3e807965"
  },
  "kernelspec": {
   "display_name": "Python 3.8.8 64-bit ('QuantumResearch': conda)",
   "name": "python3"
  },
  "language_info": {
   "codemirror_mode": {
    "name": "ipython",
    "version": 3
   },
   "file_extension": ".py",
   "mimetype": "text/x-python",
   "name": "python",
   "nbconvert_exporter": "python",
   "pygments_lexer": "ipython3",
   "version": "3.8.8"
  },
  "orig_nbformat": 4
 },
 "nbformat": 4,
 "nbformat_minor": 2
}
