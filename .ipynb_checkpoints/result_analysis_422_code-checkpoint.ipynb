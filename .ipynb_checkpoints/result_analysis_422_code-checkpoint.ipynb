{
 "cells": [
  {
   "cell_type": "code",
   "execution_count": 1,
   "metadata": {},
   "outputs": [
    {
     "name": "stdout",
     "output_type": "stream",
     "text": [
      "/home/peiyongw/Desktop/Research/QAS-Qiskit\n"
     ]
    }
   ],
   "source": [
    "import pennylane as qml \n",
    "import pennylane.numpy as pnp \n",
    "import numpy as np \n",
    "from qas import qml_gate_ops \n",
    "from qas import qml_models \n",
    "from qas import mcts\n",
    "import os \n",
    "import json \n",
    "from pprint import pprint\n",
    "cwd = os.getcwd() \n",
    "print(cwd)"
   ]
  },
  {
   "cell_type": "code",
   "execution_count": 2,
   "metadata": {},
   "outputs": [
    {
     "name": "stdout",
     "output_type": "stream",
     "text": [
      "dict_keys(['task', 'pool', 'params', 'k', 'op_list', 'search_reward_list', 'fine_tune_loss'])\n",
      "dict_keys(['task', 'pool', 'params', 'k', 'op_list', 'search_reward_list', 'fine_tune_loss'])\n"
     ]
    }
   ],
   "source": [
    "res_1_file = '20211012-020301.json'\n",
    "res_2_file = '20211012-131536.json'\n",
    "with open(os.path.join(cwd, res_1_file)) as f:\n",
    "    res_dict_1 = json.load(f)\n",
    "\n",
    "with open(os.path.join(cwd, res_2_file)) as f:\n",
    "    res_dict_2 = json.load(f)\n",
    "\n",
    "print(res_dict_1.keys())\n",
    "print(res_dict_2.keys())"
   ]
  },
  {
   "cell_type": "code",
   "execution_count": 3,
   "metadata": {},
   "outputs": [
    {
     "name": "stdout",
     "output_type": "stream",
     "text": [
      "[['Hadamard', [3], None], ['CNOT', [0, 3], None], ['CNOT', [3, 0], None], ['CNOT', [1, 2], None], ['CNOT', [3, 1], None], ['CNOT', [0, 2], None]]\n",
      "[['CNOT', [0, 1], None], ['Hadamard', [3], None], ['CNOT', [3, 1], None], ['CNOT', [1, 2], None], ['CNOT', [0, 1], None], ['CNOT', [3, 0], None]]\n"
     ]
    }
   ],
   "source": [
    "op_list_1 = res_dict_1['op_list']\n",
    "print(op_list_1)\n",
    "op_list_2 = res_dict_2['op_list']\n",
    "print(op_list_2)"
   ]
  },
  {
   "cell_type": "code",
   "execution_count": 4,
   "metadata": {},
   "outputs": [
    {
     "name": "stdout",
     "output_type": "stream",
     "text": [
      "Circuit 1:\n",
      " 0: ──╭QubitStateVector(M0)──────╭C──╭X──────╭C──╭┤ State \n",
      " 1: ──╰QubitStateVector(M0)──╭C──│───│───╭X──│───├┤ State \n",
      " 2: ─────────────────────────╰X──│───│───│───╰X──├┤ State \n",
      " 3: ───H─────────────────────────╰X──╰C──╰C──────╰┤ State \n",
      "M0 =\n",
      "[0.5 0.5 0.5 0.5]\n",
      "\n",
      "[0.7071+0.j 0.    +0.j 0.    +0.j 0.    +0.j 0.    +0.j 0.    +0.j 0.    +0.j 0.    +0.j 0.    +0.j 0.    +0.j 0.    +0.j 0.    +0.j 0.    +0.j 0.    +0.j 0.    +0.j 0.7071+0.j]\n",
      "\n",
      "Circuit 2:\n",
      " 0: ──╭QubitStateVector(M0)──╭C──────────╭C──╭X──╭┤ State \n",
      " 1: ──╰QubitStateVector(M0)──╰X──╭X──╭C──╰X──│───├┤ State \n",
      " 2: ─────────────────────────────│───╰X──────│───├┤ State \n",
      " 3: ───H─────────────────────────╰C──────────╰C──╰┤ State \n",
      "M0 =\n",
      "[0.5 0.5 0.5 0.5]\n",
      "\n",
      "[0.7071+0.j 0.    +0.j 0.    +0.j 0.    +0.j 0.    +0.j 0.    +0.j 0.    +0.j 0.    +0.j 0.    +0.j 0.    +0.j 0.    +0.j 0.    +0.j 0.    +0.j 0.    +0.j 0.    +0.j 0.7071+0.j]\n",
      "\n",
      "Target Circuit:\n",
      " 0: ──╭QubitStateVector(M0)──╭C──────────────╭X──╭┤ State \n",
      " 1: ──╰QubitStateVector(M0)──│───╭C──────╭X──│───├┤ State \n",
      " 2: ─────────────────────────╰X──╰X──╭X──│───│───├┤ State \n",
      " 3: ───H─────────────────────────────╰C──╰C──╰C──╰┤ State \n",
      "M0 =\n",
      "[0.5 0.5 0.5 0.5]\n",
      "\n",
      "[0.7071+0.j 0.    +0.j 0.    +0.j 0.    +0.j 0.    +0.j 0.    +0.j 0.    +0.j 0.    +0.j 0.    +0.j 0.    +0.j 0.    +0.j 0.    +0.j 0.    +0.j 0.    +0.j 0.    +0.j 0.7071+0.j]\n",
      "\n"
     ]
    }
   ],
   "source": [
    "dev = qml.device('default.qubit', wires =4)\n",
    "\n",
    "@qml.qnode(dev)\n",
    "def circ_stem_1(x):\n",
    "    qml.QubitStateVector(x, wires =[0,1])\n",
    "    qml.Hadamard(wires=3)\n",
    "    qml.CNOT(wires=[0,3])\n",
    "    qml.CNOT(wires=[3,0])\n",
    "    qml.CNOT(wires=[1,2])\n",
    "    qml.CNOT(wires=[3,1])\n",
    "    qml.CNOT(wires=[0,2])\n",
    "    return qml.state()\n",
    "\n",
    "print(\"Circuit 1:\")\n",
    "print(qml.draw(circ_stem_1)(qml_models.FOUR_TWO_TWO_DETECTION_CODE_DATA[0][0]))\n",
    "print(circ_stem_1(np.array([1,0,0,0])))\n",
    "print()\n",
    "@qml.qnode(dev)\n",
    "def circ_stem_2(x):\n",
    "    qml.QubitStateVector(x, wires =[0,1])\n",
    "    qml.CNOT(wires=[0,1])\n",
    "    qml.Hadamard(wires=3)\n",
    "    qml.CNOT(wires=[3,1])\n",
    "    qml.CNOT(wires=[1,2])\n",
    "    qml.CNOT(wires=[0,1])\n",
    "    qml.CNOT(wires=[3,0])\n",
    "    return qml.state()\n",
    "\n",
    "print(\"Circuit 2:\")\n",
    "print(qml.draw(circ_stem_2)(qml_models.FOUR_TWO_TWO_DETECTION_CODE_DATA[0][0]))\n",
    "print(circ_stem_2(np.array([1,0,0,0])))\n",
    "print()\n",
    "@qml.qnode(dev)\n",
    "def target_circ(x):\n",
    "    qml.QubitStateVector(x, wires =[0,1])\n",
    "    qml.Hadamard(wires=[3])\n",
    "    qml.CNOT(wires=[0,2])\n",
    "    qml.CNOT(wires=[1,2])\n",
    "    qml.CNOT(wires=[3,2])\n",
    "    qml.CNOT(wires=[3,1])\n",
    "    qml.CNOT(wires=[3,0])\n",
    "    return qml.state()\n",
    "print(\"Target Circuit:\")\n",
    "print(qml.draw(target_circ)(qml_models.FOUR_TWO_TWO_DETECTION_CODE_DATA[0][0]))\n",
    "print(target_circ(np.array([1,0,0,0])))\n",
    "print()\n"
   ]
  },
  {
   "cell_type": "code",
   "execution_count": 5,
   "metadata": {},
   "outputs": [
    {
     "name": "stdout",
     "output_type": "stream",
     "text": [
      "Input state:\n",
      "[1 0] [1 0]\n",
      "circuit 1 output:\n",
      "[0.7071+0.j 0.    +0.j 0.    +0.j 0.    +0.j 0.    +0.j 0.    +0.j 0.    +0.j 0.    +0.j 0.    +0.j 0.    +0.j 0.    +0.j 0.    +0.j 0.    +0.j 0.    +0.j 0.    +0.j 0.7071+0.j]\n",
      "circuit 2 output:\n",
      "[0.7071+0.j 0.    +0.j 0.    +0.j 0.    +0.j 0.    +0.j 0.    +0.j 0.    +0.j 0.    +0.j 0.    +0.j 0.    +0.j 0.    +0.j 0.    +0.j 0.    +0.j 0.    +0.j 0.    +0.j 0.7071+0.j]\n",
      "target circuit output:\n",
      "[0.7071+0.j 0.    +0.j 0.    +0.j 0.    +0.j 0.    +0.j 0.    +0.j 0.    +0.j 0.    +0.j 0.    +0.j 0.    +0.j 0.    +0.j 0.    +0.j 0.    +0.j 0.    +0.j 0.    +0.j 0.7071+0.j]\n",
      "\n",
      "Input state:\n",
      "[1 0] [0 1]\n",
      "circuit 1 output:\n",
      "[0.    +0.j 0.    +0.j 0.    +0.j 0.    +0.j 0.    +0.j 0.    +0.j 0.7071+0.j 0.    +0.j 0.    +0.j 0.7071+0.j 0.    +0.j 0.    +0.j 0.    +0.j 0.    +0.j 0.    +0.j 0.    +0.j]\n",
      "circuit 2 output:\n",
      "[0.    +0.j 0.    +0.j 0.    +0.j 0.    +0.j 0.    +0.j 0.    +0.j 0.7071+0.j 0.    +0.j 0.    +0.j 0.7071+0.j 0.    +0.j 0.    +0.j 0.    +0.j 0.    +0.j 0.    +0.j 0.    +0.j]\n",
      "target circuit output:\n",
      "[0.    +0.j 0.    +0.j 0.    +0.j 0.    +0.j 0.    +0.j 0.    +0.j 0.7071+0.j 0.    +0.j 0.    +0.j 0.7071+0.j 0.    +0.j 0.    +0.j 0.    +0.j 0.    +0.j 0.    +0.j 0.    +0.j]\n",
      "\n",
      "Input state:\n",
      "[0 1] [1 0]\n",
      "circuit 1 output:\n",
      "[0.    +0.j 0.    +0.j 0.    +0.j 0.    +0.j 0.    +0.j 0.7071+0.j 0.    +0.j 0.    +0.j 0.    +0.j 0.    +0.j 0.7071+0.j 0.    +0.j 0.    +0.j 0.    +0.j 0.    +0.j 0.    +0.j]\n",
      "circuit 2 output:\n",
      "[0.    +0.j 0.    +0.j 0.    +0.j 0.    +0.j 0.    +0.j 0.7071+0.j 0.    +0.j 0.    +0.j 0.    +0.j 0.    +0.j 0.7071+0.j 0.    +0.j 0.    +0.j 0.    +0.j 0.    +0.j 0.    +0.j]\n",
      "target circuit output:\n",
      "[0.    +0.j 0.    +0.j 0.    +0.j 0.    +0.j 0.    +0.j 0.7071+0.j 0.    +0.j 0.    +0.j 0.    +0.j 0.    +0.j 0.7071+0.j 0.    +0.j 0.    +0.j 0.    +0.j 0.    +0.j 0.    +0.j]\n",
      "\n",
      "Input state:\n",
      "[0 1] [0 1]\n",
      "circuit 1 output:\n",
      "[0.    +0.j 0.    +0.j 0.    +0.j 0.7071+0.j 0.    +0.j 0.    +0.j 0.    +0.j 0.    +0.j 0.    +0.j 0.    +0.j 0.    +0.j 0.    +0.j 0.7071+0.j 0.    +0.j 0.    +0.j 0.    +0.j]\n",
      "circuit 2 output:\n",
      "[0.    +0.j 0.    +0.j 0.    +0.j 0.7071+0.j 0.    +0.j 0.    +0.j 0.    +0.j 0.    +0.j 0.    +0.j 0.    +0.j 0.    +0.j 0.    +0.j 0.7071+0.j 0.    +0.j 0.    +0.j 0.    +0.j]\n",
      "target circuit output:\n",
      "[0.    +0.j 0.    +0.j 0.    +0.j 0.7071+0.j 0.    +0.j 0.    +0.j 0.    +0.j 0.    +0.j 0.    +0.j 0.    +0.j 0.    +0.j 0.    +0.j 0.7071+0.j 0.    +0.j 0.    +0.j 0.    +0.j]\n",
      "\n"
     ]
    }
   ],
   "source": [
    "ket0 = np.array([1,0])\n",
    "ket1 = np.array([0,1])\n",
    "for a in [ket0,ket1]:\n",
    "    for b in [ket0,ket1]:\n",
    "        print(\"Input state:\")\n",
    "        print(a,b)\n",
    "        input_state = np.kron(a,b)\n",
    "        print(\"circuit 1 output:\")\n",
    "        print(circ_stem_1(input_state))\n",
    "        print(\"circuit 2 output:\")\n",
    "        print(circ_stem_2(input_state))\n",
    "        print(\"target circuit output:\")\n",
    "        print(target_circ(input_state))\n",
    "        print()"
   ]
  }
 ],
 "metadata": {
  "interpreter": {
   "hash": "48cd5b442f016699da984206989fd2d7e7204285b15197fe93b8704a3e807965"
  },
  "kernelspec": {
   "display_name": "Python [conda env:QuantumResearch]",
   "language": "python",
   "name": "conda-env-QuantumResearch-py"
  },
  "language_info": {
   "codemirror_mode": {
    "name": "ipython",
    "version": 3
   },
   "file_extension": ".py",
   "mimetype": "text/x-python",
   "name": "python",
   "nbconvert_exporter": "python",
   "pygments_lexer": "ipython3",
   "version": "3.8.11"
  }
 },
 "nbformat": 4,
 "nbformat_minor": 4
}
